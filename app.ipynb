{
 "cells": [
  {
   "cell_type": "code",
   "execution_count": 1,
   "metadata": {},
   "outputs": [
    {
     "name": "stdout",
     "output_type": "stream",
     "text": [
      " * Serving Flask app '__main__'\n",
      " * Debug mode: off\n"
     ]
    },
    {
     "name": "stderr",
     "output_type": "stream",
     "text": [
      "WARNING: This is a development server. Do not use it in a production deployment. Use a production WSGI server instead.\n",
      " * Running on http://127.0.0.1:5000\n",
      "Press CTRL+C to quit\n",
      "127.0.0.1 - - [31/Mar/2023 15:51:35] \"GET / HTTP/1.1\" 200 -\n",
      "127.0.0.1 - - [31/Mar/2023 15:51:35] \"GET /static/style.css HTTP/1.1\" 304 -\n",
      "127.0.0.1 - - [31/Mar/2023 15:51:40] \"GET /admin HTTP/1.1\" 200 -\n",
      "127.0.0.1 - - [31/Mar/2023 15:51:43] \"POST /admin HTTP/1.1\" 302 -\n",
      "127.0.0.1 - - [31/Mar/2023 15:51:43] \"GET /post_confirmation HTTP/1.1\" 200 -\n"
     ]
    }
   ],
   "source": [
    "from flask import Flask, render_template, url_for, request, flash, redirect, jsonify \n",
    "from flask_sqlalchemy import SQLAlchemy\n",
    "import json\n",
    "import os\n",
    "from datetime import datetime\n",
    "from random import randint\n",
    "\n",
    "app = Flask(__name__)\n",
    "app.config['SQLALCHEMY_DATABASE_URI'] = 'sqlite:///app.db'\n",
    "db = SQLAlchemy(app)\n",
    "\n",
    "\n",
    "# Database Model\n",
    "class blogInfo(db.Model):\n",
    "    id = db.Column(db.Integer, primary_key = True, default = randint(0,100000))\n",
    "    title = db.Column(db.String(), nullable = False)\n",
    "    content = db.Column(db.String(200), nullable = False)\n",
    "    date_uploaded = db.Column(db.DateTime, default = datetime.utcnow)\n",
    "    \n",
    "    def __repr__(self):\n",
    "        return '<Task %r>' % self.id\n",
    "    \n",
    "    @property\n",
    "    def serialize(self):\n",
    "        return{\n",
    "            'id': self.id,\n",
    "            'title': self.title,\n",
    "            'content': self.content,\n",
    "            'date_uploaded': self.date_uploaded,\n",
    "        }\n",
    "\n",
    "\n",
    "@app.route(\"/post_confirmation\")\n",
    "def post_confirmation():\n",
    "    return 'Post was created! Returning to admin page now.'\n",
    "\n",
    "#code for retrieving blog--every blog\n",
    "@app.route('/retr_blogs', methods =[\"GET\"])\n",
    "def retrieve_blogs():\n",
    "    blog = blogInfo.query.all()\n",
    "    serialized_data = []\n",
    "\n",
    "#-- retrieving blog by a single id\n",
    "@app.route('/retr_blog/<int:id>', methods=[\"GET\"])\n",
    "def retr_single_blog(id):\n",
    "    blog = blogInfo.filter_by(id=id).first()\n",
    "    serialized_blog = blog.serialize\n",
    "\n",
    "\n",
    "#Home page\n",
    "@app.route('/')\n",
    "def home_page():\n",
    "    with open('posts.json', 'r') as file:\n",
    "        posts = json.load(file)[\"posts\"]\n",
    "\n",
    "    return render_template('index.html',posts_list = posts)\n",
    "\n",
    "# Admin interface, and adding a blog post to the database\n",
    "@app.route('/admin', methods=('GET','POST'))\n",
    "def admin():\n",
    "    if request.method == 'POST':\n",
    "        post_title = request.form['title']\n",
    "        post_content = request.form['content']\n",
    "        new_blog=blogInfo(title=post_title,content=post_content)\n",
    "        db.session.add(new_blog)\n",
    "        db.session.commit()\n",
    "        # blog_id = getattr(new_blog, \"id\")\n",
    "\n",
    "        return redirect('/post_confirmation')\n",
    "    else:\n",
    "        return render_template('admin.html')\n",
    "\n",
    "\n",
    "\n",
    "\n",
    "# Error Code Handling\n",
    "@app.errorhandler(404)\n",
    "def not_found(e):\n",
    "    return render_template('404.html'), 404\n",
    "\n",
    "def main():\n",
    "    if not os.path.exists('app.db'):\n",
    "        with app.app_context():\n",
    "            db.create_all()\n",
    "    app.run()\n",
    "\n",
    "\n",
    "if __name__ == \"__main__\":\n",
    "    main()"
   ]
  },
  {
   "cell_type": "code",
   "execution_count": null,
   "metadata": {},
   "outputs": [],
   "source": []
  }
 ],
 "metadata": {
  "kernelspec": {
   "display_name": "base",
   "language": "python",
   "name": "python3"
  },
  "language_info": {
   "codemirror_mode": {
    "name": "ipython",
    "version": 3
   },
   "file_extension": ".py",
   "mimetype": "text/x-python",
   "name": "python",
   "nbconvert_exporter": "python",
   "pygments_lexer": "ipython3",
   "version": "3.10.9"
  },
  "orig_nbformat": 4,
  "vscode": {
   "interpreter": {
    "hash": "74257a0a5c0181bc4827c74976dbddecd68f5367eb1980f961c7a318e63ecaee"
   }
  }
 },
 "nbformat": 4,
 "nbformat_minor": 2
}
