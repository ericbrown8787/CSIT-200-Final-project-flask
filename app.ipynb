{
 "cells": [
  {
   "cell_type": "code",
   "execution_count": 1,
   "metadata": {},
   "outputs": [
    {
     "name": "stdout",
     "output_type": "stream",
     "text": [
      " * Serving Flask app '__main__'\n",
      " * Debug mode: off\n"
     ]
    },
    {
     "name": "stderr",
     "output_type": "stream",
     "text": [
      "WARNING: This is a development server. Do not use it in a production deployment. Use a production WSGI server instead.\n",
      " * Running on http://127.0.0.1:5000\n",
      "Press CTRL+C to quit\n",
      "127.0.0.1 - - [29/Mar/2023 17:17:11] \"GET / HTTP/1.1\" 200 -\n",
      "127.0.0.1 - - [29/Mar/2023 17:17:11] \"GET /static/style.css HTTP/1.1\" 304 -\n",
      "127.0.0.1 - - [29/Mar/2023 17:17:18] \"GET /admin HTTP/1.1\" 200 -\n",
      "127.0.0.1 - - [29/Mar/2023 17:17:18] \"GET /static/style.css HTTP/1.1\" 304 -\n",
      "127.0.0.1 - - [29/Mar/2023 17:17:35] \"POST /admin HTTP/1.1\" 405 -\n"
     ]
    }
   ],
   "source": [
    "from flask import Flask, render_template, url_for, request, flash, redirect\n",
    "from flask_sqlalchemy import SQLAlchemy\n",
    "import json\n",
    "import os\n",
    "from datetime import datetime\n",
    "\n",
    "app = Flask(__name__)\n",
    "app.config['SQLALCHEMY_DATABASE_URI'] = 'sqlite:///app.db'\n",
    "db = SQLAlchemy(app)\n",
    "\n",
    "\n",
    "# Database Model\n",
    "class blogInfo(db.Model):\n",
    "    id = db.Column(db.Integer, primary_key = True)\n",
    "    content = db.Column(db.String(200), nullable = False)\n",
    "    date_uploaded = db.Column(db.DateTime, default = datetime.utcnow)\n",
    "\n",
    "    @property\n",
    "    def serialize(self):\n",
    "        return{\n",
    "            'id': self.id,\n",
    "            'content': self.content,\n",
    "            'date_uploaded': self.date_uploaded,\n",
    "        }\n",
    "\n",
    "def __repr__(self):\n",
    "    return '<Task %r>' % self.id\n",
    "\n",
    "# Add blog post to database\n",
    "@app.route('/add_blog',methods=[\"POST\"])\n",
    "def create_blog():\n",
    "    data = request.get_json()\n",
    " \n",
    "    new_blog=Blog(id=data[\"id\"],content=data[\"content\"],date_uploaded=datetime.utcnow)\n",
    "            \n",
    "    db.session.add(new_blog)\n",
    "    db.session.commit()\n",
    " \n",
    "    blog_id = getattr(new_blog, \"id\")\n",
    "    return jsonify({\"id\": blog_id})\n",
    "\n",
    "#Home page\n",
    "@app.route('/')\n",
    "def home_page():\n",
    "    with open('posts.json', 'r') as file:\n",
    "        posts = json.load(file)[\"posts\"]\n",
    "\n",
    "    return render_template('index.html',posts_list = posts)\n",
    "\n",
    "@app.route('/admin',methods=('POST',))\n",
    "def admin():\n",
    "    return render_template('admin.html')\n",
    "\n",
    "# Error Code Handling\n",
    "@app.errorhandler(404)\n",
    "def not_found(e):\n",
    "    return render_template('404.html'), 404\n",
    "\n",
    "def main():\n",
    "    if not os.path.exists('app.db'):\n",
    "        db.create_all()\n",
    "    app.run()\n",
    "\n",
    "\n",
    "if __name__ == \"__main__\":\n",
    "    main()"
   ]
  },
  {
   "cell_type": "code",
   "execution_count": null,
   "metadata": {},
   "outputs": [],
   "source": []
  }
 ],
 "metadata": {
  "kernelspec": {
   "display_name": "base",
   "language": "python",
   "name": "python3"
  },
  "language_info": {
   "codemirror_mode": {
    "name": "ipython",
    "version": 3
   },
   "file_extension": ".py",
   "mimetype": "text/x-python",
   "name": "python",
   "nbconvert_exporter": "python",
   "pygments_lexer": "ipython3",
   "version": "3.10.9"
  },
  "orig_nbformat": 4
 },
 "nbformat": 4,
 "nbformat_minor": 2
}
