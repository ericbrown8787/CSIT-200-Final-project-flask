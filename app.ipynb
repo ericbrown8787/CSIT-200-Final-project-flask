{
 "cells": [
  {
   "cell_type": "code",
   "execution_count": 1,
   "metadata": {},
   "outputs": [
    {
     "name": "stdout",
     "output_type": "stream",
     "text": [
      " * Serving Flask app \"__main__\" (lazy loading)\n",
      " * Environment: production\n",
      "\u001b[31m   WARNING: This is a development server. Do not use it in a production deployment.\u001b[0m\n",
      "\u001b[2m   Use a production WSGI server instead.\u001b[0m\n",
      " * Debug mode: off\n"
     ]
    },
    {
     "name": "stderr",
     "output_type": "stream",
     "text": [
      "c:\\Users\\lori2\\anaconda3\\lib\\site-packages\\flask_sqlalchemy\\__init__.py:872: FSADeprecationWarning: SQLALCHEMY_TRACK_MODIFICATIONS adds significant overhead and will be disabled by default in the future.  Set it to True or False to suppress this warning.\n",
      "  warnings.warn(FSADeprecationWarning(\n",
      " * Running on http://127.0.0.1:5000/ (Press CTRL+C to quit)\n",
      "127.0.0.1 - - [29/Mar/2023 16:12:32] \"GET / HTTP/1.1\" 200 -\n",
      "127.0.0.1 - - [29/Mar/2023 16:12:33] \"GET / HTTP/1.1\" 200 -\n",
      "127.0.0.1 - - [29/Mar/2023 16:12:40] \"GET / HTTP/1.1\" 200 -\n"
     ]
    }
   ],
   "source": [
    "from flask import Flask, render_template, url_for\n",
    "from flask_sqlalchemy import SQLAlchemy\n",
    "from datetime import datetime\n",
    "\n",
    "app = Flask(__name__)\n",
    "app.config['SQLALCHEMY_DATABASE_URI'] = 'sqlite:///py.db'\n",
    "db = SQLAlchemy(app)\n",
    "\n",
    "class blogInfo(db.Model):\n",
    "    id = db.Column(db.Integer, primary_key = True)\n",
    "    content = db.Column(db.String(200), nullable = False)\n",
    "    date_uploaded = db.Column(db.DateTime, default = datetime.utcnow)\n",
    "\n",
    "def __repr__(self):\n",
    "    return '<Task %r>' % self.id\n",
    "\n",
    "@app.route('/')\n",
    "\n",
    "def home_page():\n",
    "    return render_template('index.html')\n",
    "\n",
    "#@app.route('/admin_post')\n",
    "\n",
    "if __name__ == \"__main__\":\n",
    "    app.run()\n"
   ]
  },
  {
   "cell_type": "code",
   "execution_count": null,
   "metadata": {},
   "outputs": [],
   "source": []
  }
 ],
 "metadata": {
  "kernelspec": {
   "display_name": "base",
   "language": "python",
   "name": "python3"
  },
  "language_info": {
   "codemirror_mode": {
    "name": "ipython",
    "version": 3
   },
   "file_extension": ".py",
   "mimetype": "text/x-python",
   "name": "python",
   "nbconvert_exporter": "python",
   "pygments_lexer": "ipython3",
   "version": "3.9.13"
  },
  "orig_nbformat": 4
 },
 "nbformat": 4,
 "nbformat_minor": 2
}
