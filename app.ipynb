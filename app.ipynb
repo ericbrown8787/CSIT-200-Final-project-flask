{
 "cells": [
  {
   "cell_type": "code",
   "execution_count": null,
   "metadata": {},
   "outputs": [],
   "source": [
    "from flask import Flask, render_template, url_for\n",
    "import flask_sqlalchemy\n",
    "import json\n",
    "\n",
    "app = Flask(__name__)\n",
    "@app.route('/')\n",
    "def home_page():\n",
    "    with open('posts.json', 'r') as file:\n",
    "        posts = json.load(file)[\"posts\"]\n",
    "        \n",
    "    \n",
    "    return render_template('index.html',posts_list = posts)\n",
    "\n",
    "@app.errorhandler(404)\n",
    "def not_found(e):\n",
    "    return render_template('404.html'), 404\n",
    "\n",
    "\n",
    "if __name__ == \"__main__\":\n",
    "    app.run()"
   ]
  },
  {
   "cell_type": "code",
   "execution_count": null,
   "metadata": {},
   "outputs": [],
   "source": []
  }
 ],
 "metadata": {
  "kernelspec": {
   "display_name": "base",
   "language": "python",
   "name": "python3"
  },
  "language_info": {
   "codemirror_mode": {
    "name": "ipython",
    "version": 3
   },
   "file_extension": ".py",
   "mimetype": "text/x-python",
   "name": "python",
   "nbconvert_exporter": "python",
   "pygments_lexer": "ipython3",
   "version": "3.10.9"
  },
  "orig_nbformat": 4
 },
 "nbformat": 4,
 "nbformat_minor": 2
}
