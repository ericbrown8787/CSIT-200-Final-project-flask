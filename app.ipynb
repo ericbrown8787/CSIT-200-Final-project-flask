{
 "cells": [
  {
   "cell_type": "code",
   "execution_count": 1,
   "metadata": {},
   "outputs": [
    {
     "name": "stdout",
     "output_type": "stream",
     "text": [
      " * Serving Flask app '__main__'\n",
      " * Debug mode: off\n"
     ]
    },
    {
     "name": "stderr",
     "output_type": "stream",
     "text": [
      "WARNING: This is a development server. Do not use it in a production deployment. Use a production WSGI server instead.\n",
      " * Running on http://127.0.0.1:5000\n",
      "Press CTRL+C to quit\n",
      "127.0.0.1 - - [06/Apr/2023 17:35:24] \"GET /admin HTTP/1.1\" 200 -\n",
      "127.0.0.1 - - [06/Apr/2023 17:35:24] \"GET /static/style.css HTTP/1.1\" 200 -\n"
     ]
    },
    {
     "name": "stdout",
     "output_type": "stream",
     "text": [
      "/admin?\n"
     ]
    },
    {
     "name": "stderr",
     "output_type": "stream",
     "text": [
      "127.0.0.1 - - [06/Apr/2023 17:36:36] \"GET /admin HTTP/1.1\" 200 -\n",
      "127.0.0.1 - - [06/Apr/2023 17:36:36] \"GET /static/style.css HTTP/1.1\" 200 -\n"
     ]
    },
    {
     "name": "stdout",
     "output_type": "stream",
     "text": [
      "/admin?\n"
     ]
    },
    {
     "name": "stderr",
     "output_type": "stream",
     "text": [
      "127.0.0.1 - - [06/Apr/2023 17:36:38] \"GET /admin HTTP/1.1\" 200 -\n",
      "127.0.0.1 - - [06/Apr/2023 17:36:38] \"GET /static/style.css HTTP/1.1\" 304 -\n"
     ]
    },
    {
     "name": "stdout",
     "output_type": "stream",
     "text": [
      "/admin?\n"
     ]
    },
    {
     "name": "stderr",
     "output_type": "stream",
     "text": [
      "127.0.0.1 - - [06/Apr/2023 17:36:38] \"GET /admin HTTP/1.1\" 200 -\n",
      "127.0.0.1 - - [06/Apr/2023 17:36:38] \"GET /static/style.css HTTP/1.1\" 304 -\n"
     ]
    },
    {
     "name": "stdout",
     "output_type": "stream",
     "text": [
      "/admin?\n"
     ]
    },
    {
     "name": "stderr",
     "output_type": "stream",
     "text": [
      "127.0.0.1 - - [06/Apr/2023 17:36:51] \"GET /admin HTTP/1.1\" 200 -\n",
      "127.0.0.1 - - [06/Apr/2023 17:36:51] \"GET /static/style.css HTTP/1.1\" 200 -\n"
     ]
    },
    {
     "name": "stdout",
     "output_type": "stream",
     "text": [
      "/admin?\n"
     ]
    },
    {
     "name": "stderr",
     "output_type": "stream",
     "text": [
      "127.0.0.1 - - [06/Apr/2023 17:37:23] \"GET /admin HTTP/1.1\" 200 -\n",
      "127.0.0.1 - - [06/Apr/2023 17:37:23] \"GET /static/style.css HTTP/1.1\" 200 -\n"
     ]
    },
    {
     "name": "stdout",
     "output_type": "stream",
     "text": [
      "/admin?\n"
     ]
    },
    {
     "name": "stderr",
     "output_type": "stream",
     "text": [
      "127.0.0.1 - - [06/Apr/2023 17:37:40] \"GET /admin HTTP/1.1\" 200 -\n",
      "127.0.0.1 - - [06/Apr/2023 17:37:40] \"GET /static/style.css HTTP/1.1\" 200 -\n"
     ]
    },
    {
     "name": "stdout",
     "output_type": "stream",
     "text": [
      "/admin?\n"
     ]
    }
   ],
   "source": [
    "from flask import Flask, render_template, url_for, request, flash, redirect, jsonify \n",
    "from flask_sqlalchemy import SQLAlchemy\n",
    "import json\n",
    "import os\n",
    "from datetime import datetime\n",
    "from random import randint\n",
    "\n",
    "app = Flask(__name__)\n",
    "app.config['SQLALCHEMY_DATABASE_URI'] = 'sqlite:///app.db'\n",
    "db = SQLAlchemy(app)\n",
    "\n",
    "\n",
    "# Database Model\n",
    "class blogInfo(db.Model):\n",
    "    id = db.Column(db.Integer, primary_key = True, default = randint(0,100000))\n",
    "    title = db.Column(db.String(), nullable = False)\n",
    "    content = db.Column(db.String(200), nullable = False)\n",
    "    date_uploaded = db.Column(db.DateTime, default = datetime.utcnow)\n",
    "    \n",
    "    def __repr__(self):\n",
    "        return '<Task %r>' % self.id\n",
    "    \n",
    "    @property\n",
    "    def serialize(self):\n",
    "        return{\n",
    "            'id': self.id,\n",
    "            'title': self.title,\n",
    "            'content': self.content,\n",
    "            'date_uploaded': self.date_uploaded,\n",
    "        }\n",
    "\n",
    "\n",
    "#code for retrieving blog--every blog\n",
    "#@app.route('/retr_blogs', methods =[\"GET\"])\n",
    "# def retrieve_blogs():\n",
    "#     blogs = blogInfo.query.all()\n",
    "#     serialized_data = []\n",
    "#     for post in blogs:\n",
    "#         serialized_data.append(post.serialize)\n",
    "#     return jsonify({'all_blogs': serialized_data})\n",
    "\n",
    "def retrieve_blogs():\n",
    "    blogs = blogInfo.query.all()\n",
    "    serialized_data = []\n",
    "    for post in blogs:\n",
    "        serialized_data.append(post.serialize)\n",
    "    return serialized_data\n",
    "\n",
    "#-- retrieving blog by a single id\n",
    "@app.route('/retr_blog/<int:blog_id>', methods=[\"GET\"])\n",
    "def retr_single_blog(blog_id):\n",
    "    blog = blogInfo.filter_by(id=blog_id).first()\n",
    "    serialized_blog = blog.serialize\n",
    "\n",
    "@app.route('/delete_blog/<int:blog_id>', methods=[\"POST\"])\n",
    "def delete_blog(blog_id):\n",
    "    #post = blogInfo.query.filter_by(id=blog_id).first()\n",
    "    post = blogInfo.query.get_or_404(blog_id)\n",
    "    try:\n",
    "        db.session.delete(post)\n",
    "        db.session.commit()\n",
    "        return redirect('/admin')\n",
    "    except:\n",
    "        return redirect('/admin')\n",
    "\n",
    "#Home page\n",
    "@app.route('/')\n",
    "def home_page():\n",
    "    return render_template('index.html')\n",
    "\n",
    "@app.route('/articles')\n",
    "def articles():\n",
    "    posts = retrieve_blogs()\n",
    "    return render_template('articles.html', posts_list = posts)\n",
    "\n",
    "# Admin interface, and adding a blog post to the database\n",
    "@app.route('/admin', methods=('GET','POST'))\n",
    "def admin():\n",
    "    print(request.full_path)\n",
    "    if request.method == 'POST':\n",
    "        post_title = request.form['title']\n",
    "        post_content = request.form['content']\n",
    "        new_blog=blogInfo(title=post_title,content=post_content)\n",
    "        db.session.add(new_blog)\n",
    "        db.session.commit()\n",
    "        # blog_id = getattr(new_blog, \"id\")\n",
    "\n",
    "        return redirect('/post_confirmation')\n",
    "    else:\n",
    "        posts = retrieve_blogs()\n",
    "        return render_template('admin.html', posts_list = posts)\n",
    "    \n",
    "\n",
    "\n",
    "@app.route(\"/post_confirmation\")\n",
    "def post_confirmation():\n",
    "    return render_template('addpost.html')\n",
    "\n",
    "\n",
    "# Error Code Handling\n",
    "@app.errorhandler(404)\n",
    "def not_found(e):\n",
    "    return render_template('404.html'), 404\n",
    "\n",
    "def main():\n",
    "\n",
    "    # Create a database, if one is not found.\n",
    "    if not os.path.exists('app.db'):\n",
    "        with app.app_context():\n",
    "            db.create_all()\n",
    "\n",
    "    app.run()\n",
    "\n",
    "\n",
    "if __name__ == \"__main__\":\n",
    "    main()"
   ]
  },
  {
   "cell_type": "code",
   "execution_count": null,
   "metadata": {},
   "outputs": [],
   "source": []
  }
 ],
 "metadata": {
  "kernelspec": {
   "display_name": "base",
   "language": "python",
   "name": "python3"
  },
  "language_info": {
   "codemirror_mode": {
    "name": "ipython",
    "version": 3
   },
   "file_extension": ".py",
   "mimetype": "text/x-python",
   "name": "python",
   "nbconvert_exporter": "python",
   "pygments_lexer": "ipython3",
   "version": "3.10.9"
  },
  "orig_nbformat": 4,
  "vscode": {
   "interpreter": {
    "hash": "ad2bdc8ecc057115af97d19610ffacc2b4e99fae6737bb82f5d7fb13d2f2c186"
   }
  }
 },
 "nbformat": 4,
 "nbformat_minor": 2
}
